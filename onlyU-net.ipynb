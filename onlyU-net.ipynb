{
 "cells": [
  {
   "cell_type": "code",
   "execution_count": 37,
   "id": "5cece0db",
   "metadata": {},
   "outputs": [],
   "source": [
    "import warnings\n",
    "import logging\n",
    "import os\n",
    "warnings.simplefilter('ignore')\n",
    "os.environ['TF_CPP_MIN_LOG_LEVEL'] = '3'  # FATAL\n",
    "logging.getLogger('tensorflow').setLevel(logging.FATAL)"
   ]
  },
  {
   "cell_type": "code",
   "execution_count": 41,
   "id": "464c7a41",
   "metadata": {},
   "outputs": [],
   "source": [
    "##IMPORTS##\n",
    "from tensorflow import keras\n",
    "import numpy as np\n",
    "import matplotlib.pyplot as plt\n",
    "import tensorflow as tf\n",
    "import tensorflow.keras.backend as K\n",
    "import os\n",
    "import cv2\n",
    "from glob import glob\n",
    "#Imports for model\n",
    "from tensorflow import keras\n",
    "from tensorflow.keras.models import Model\n",
    "from tensorflow.keras.layers import Input, concatenate, Conv2D, MaxPooling2D, Conv2DTranspose\n",
    "from tensorflow.keras.layers import Activation, add, multiply, Lambda\n",
    "from tensorflow.keras.layers import AveragePooling2D, average, UpSampling2D, Dropout\n",
    "from tensorflow.keras.optimizers import Adam, SGD, RMSprop\n",
    "from tensorflow.keras.initializers import glorot_normal, random_normal, random_uniform\n",
    "from tensorflow.keras.callbacks import ModelCheckpoint, TensorBoard, EarlyStopping\n",
    "\n",
    "from tensorflow.keras import backend as K\n",
    "from tensorflow.keras.layers import BatchNormalization \n",
    "from tensorflow.keras.applications import VGG19, densenet\n",
    "from tensorflow.keras.models import load_model\n",
    "from tensorflow.keras.metrics import Recall, Precision, MeanIoU\n",
    "\n",
    "import matplotlib.pyplot as plt \n",
    "from sklearn.metrics import roc_curve, auc, precision_recall_curve # roc curve tools\n",
    "from sklearn.model_selection import train_test_split\n",
    "\n",
    "import time\n",
    "import h5py"
   ]
  },
  {
   "cell_type": "code",
   "execution_count": 86,
   "id": "89eb99be",
   "metadata": {},
   "outputs": [],
   "source": [
    "epsilon = 1e-5\n",
    "smooth = 1"
   ]
  },
  {
   "cell_type": "code",
   "execution_count": 42,
   "id": "138344a4",
   "metadata": {},
   "outputs": [],
   "source": [
    "\n",
    "curdir = os.getcwd()\n",
    "img_size = (128, 128)\n",
    "num_classes_= 1\n",
    "batch_size =32\n",
    "train_input_paths = sorted(glob(os.path.join(curdir, 'train/x_train/*.jpg')))\n",
    "train_target_paths = sorted(glob(os.path.join(curdir, 'train/y_train/*.png')))\n",
    "valid_input_paths = sorted(glob(os.path.join(curdir, 'valid/x_valid/*.jpg')))\n",
    "valid_target_paths = sorted(glob(os.path.join(curdir, 'valid/y_valid/*.png')))"
   ]
  },
  {
   "cell_type": "code",
   "execution_count": 66,
   "id": "6af938b4",
   "metadata": {},
   "outputs": [],
   "source": [
    "import tensorflow as tf\n",
    "import numpy as np\n",
    "\n",
    "from tensorflow.keras.layers import Input, Conv2D, MaxPooling2D, Dropout\n",
    "from tensorflow.keras.layers import Conv2DTranspose, concatenate"
   ]
  },
  {
   "cell_type": "code",
   "execution_count": 100,
   "id": "79c7792b",
   "metadata": {},
   "outputs": [],
   "source": [
    "from tensorflow import keras\n",
    "from tensorflow.keras.preprocessing.image import load_img\n",
    "\n",
    "class SkinLesionData(keras.utils.Sequence):\n",
    "    def __init__(self, batch_size, img_size, input_paths, target_paths):\n",
    "        self.batch_size = batch_size\n",
    "        self.img_size = img_size\n",
    "        self.input_paths = input_paths\n",
    "        self.target_paths = target_paths\n",
    "        \n",
    "    def __len__(self):\n",
    "        return len(self.target_paths)//self.batch_size\n",
    "    \n",
    "    def __getitem__(self, idx):\n",
    "        i = idx * self.batch_size\n",
    "        batch_input_img_paths = self.input_paths[i:i+self.batch_size]\n",
    "        batch_target_img_paths = self.target_paths[i:i+self.batch_size]\n",
    "        x = np.zeros((self.batch_size, self.img_size[0], self.img_size[1] ,3), dtype=\"float32\")\n",
    "        \n",
    "        for j, path in enumerate(batch_input_img_paths):\n",
    "            img = plt.imread(path)\n",
    "            img = cv2.resize(img, img_size)\n",
    "            x[j] = img\n",
    "         \n",
    "        y = np.zeros((self.batch_size, self.img_size[0],self.img_size[1],1), dtype= \"float32\")\n",
    "        \n",
    "        for j, path in enumerate(batch_target_img_paths):\n",
    "            img = plt.imread(path)\n",
    "            img = cv2.resize(img , img_size)\n",
    "            y[j] = np.expand_dims(img, 2)\n",
    "        x = x/255\n",
    "        return x,y\n",
    "          "
   ]
  },
  {
   "cell_type": "code",
   "execution_count": 101,
   "id": "63b9dfbb",
   "metadata": {},
   "outputs": [],
   "source": [
    "#Creating instance of the data loader\n",
    "train_data = SkinLesionData(batch_size , img_size, train_input_paths, train_target_paths)\n",
    "valid_data = SkinLesionData(batch_size, img_size, valid_input_paths, valid_input_paths)"
   ]
  },
  {
   "cell_type": "code",
   "execution_count": 46,
   "id": "8d059726",
   "metadata": {},
   "outputs": [],
   "source": [
    "def tversky(y_true, y_pred):\n",
    "\n",
    "    y_true_pos = K.flatten(y_true)\n",
    "    y_pred_pos = K.flatten(y_pred)\n",
    "    true_pos = K.sum(y_true_pos * y_pred_pos)\n",
    "    false_neg = K.sum(y_true_pos * (1-y_pred_pos))\n",
    "\n",
    "    false_pos = K.sum((1-y_true_pos)*y_pred_pos)\n",
    "    alpha = 0.7\n",
    "    return (true_pos + smooth)/(true_pos + alpha*false_neg + (1-alpha)*false_pos + smooth)\n"
   ]
  },
  {
   "cell_type": "code",
   "execution_count": 47,
   "id": "7256205c",
   "metadata": {},
   "outputs": [],
   "source": [
    "def tversky_loss(y_true, y_pred):\n",
    "    return 1 - tversky(y_true,y_pred)\n",
    "\n",
    "def focal_tversky(y_true,y_pred):\n",
    "    pt_1 = tversky(y_true, y_pred)\n",
    "    gamma = 0.75\n",
    "    return K.pow((1-pt_1), gamma)"
   ]
  },
  {
   "cell_type": "code",
   "execution_count": 48,
   "id": "1a7395ab",
   "metadata": {},
   "outputs": [],
   "source": [
    "#Dice Loss and Dice Score\n",
    "def dsc(y_true, y_pred):\n",
    "    smooth = 1.\n",
    "    y_true_f = K.flatten(y_true)\n",
    "    y_pred_f = K.flatten(y_pred)\n",
    "    intersection = K.sum(y_true_f * y_pred_f)\n",
    "    score = (2. * intersection + smooth) / (K.sum(y_true_f) + K.sum(y_pred_f) + smooth)\n",
    "    return score\n",
    "\n",
    "def dice_loss(y_true, y_pred):\n",
    "    loss = 1 - dsc(y_true, y_pred)\n",
    "    return loss"
   ]
  },
  {
   "cell_type": "code",
   "execution_count": 49,
   "id": "0a22a8eb",
   "metadata": {},
   "outputs": [],
   "source": [
    "\n",
    "def tn(y_true, y_pred):\n",
    "    smooth = 1\n",
    "    y_pred_pos = K.round(K.clip(y_pred, 0, 1))\n",
    "    y_pred_neg = 1 - y_pred_pos\n",
    "    y_pos = K.round(K.clip(y_true, 0, 1))\n",
    "    y_neg = 1 - y_pos \n",
    "\n",
    "    tn = (K.sum(y_neg * y_pred_neg) + smooth) / (K.sum(y_neg) + smooth )\n",
    "    return tn "
   ]
  },
  {
   "cell_type": "code",
   "execution_count": 50,
   "id": "be0493c2",
   "metadata": {},
   "outputs": [],
   "source": [
    "def tp(y_true, y_pred):\n",
    "    smooth = 1\n",
    "    y_pred_pos = K.round(K.clip(y_pred, 0, 1))\n",
    "    y_pos = K.round(K.clip(y_true, 0, 1))\n",
    "    tp = (K.sum(y_pos * y_pred_pos) + smooth)/ (K.sum(y_pos) + smooth) \n",
    "    return tp "
   ]
  },
  {
   "cell_type": "code",
   "execution_count": 51,
   "id": "006ad042",
   "metadata": {},
   "outputs": [],
   "source": [
    "#IOU \n",
    "def iou(y_true, y_pred):\n",
    "      def f(y_true, y_pred):\n",
    "        intersection = (y_true * y_pred).sum()\n",
    "        union = y_true.sum() + y_pred.sum() - intersection\n",
    "        x = (intersection + smooth) / (union + smooth)\n",
    "        x = x.astype(np.float32)\n",
    "        return x\n",
    "      return tf.numpy_function(f, [y_true, y_pred], tf.float32)"
   ]
  },
  {
   "cell_type": "code",
   "execution_count": 56,
   "id": "25aeb35a",
   "metadata": {},
   "outputs": [],
   "source": [
    "def conv_block(inputs = None, num_filters = 32, dropout_prob=0, max_pooling = True):\n",
    "  conv = Conv2D(num_filters, 3, \n",
    "                activation = 'relu', \n",
    "                padding = 'same', \n",
    "                kernel_initializer = 'he_normal')(inputs) \n",
    "  conv = Conv2D(num_filters, 3, \n",
    "                activation = 'relu', \n",
    "                padding = 'same', \n",
    "                kernel_initializer = 'he_normal')(conv)\n",
    "\n",
    "  if dropout_prob > 0:\n",
    "    conv = Dropout(dropout_prob)(conv)\n",
    "\n",
    "  if max_pooling:\n",
    "    next_layer = MaxPooling2D(pool_size=(2,2))(conv) \n",
    "\n",
    "  else:\n",
    "    next_layer = conv\n",
    "\n",
    "  skip_connection = conv\n",
    "\n",
    "  return next_layer, skip_connection                 \n"
   ]
  },
  {
   "cell_type": "code",
   "execution_count": 57,
   "id": "4972e2fe",
   "metadata": {},
   "outputs": [],
   "source": [
    "def upsampling_block(expansive_input, contractive_input, n_filters = 32):\n",
    "  up = Conv2DTranspose(n_filters,\n",
    "                       3, \n",
    "                       strides = (2,2),\n",
    "                       padding = 'same')(expansive_input)\n",
    "  \n",
    "  merge = concatenate([up, contractive_input], axis = 3)\n",
    "  conv = Conv2D(n_filters, \n",
    "                3,\n",
    "                padding = 'same',\n",
    "                kernel_initializer = 'he_normal')(merge)\n",
    "          \n",
    "  conv = Conv2D(n_filters, \n",
    "                3,\n",
    "                padding = 'same',\n",
    "                kernel_initializer = 'he_normal')(conv)\n",
    "  return conv"
   ]
  },
  {
   "cell_type": "code",
   "execution_count": 58,
   "id": "4f6658b3",
   "metadata": {},
   "outputs": [],
   "source": [
    "def unet_model(input_size = (128, 128, 3) , n_filter = 32 , n_classes = 1):\n",
    "  inputs = Input(input_size)\n",
    "  cblock1 = conv_block(inputs, n_filter) # 64*64\n",
    "  cblock2 = conv_block(cblock1[0], n_filter*2) #32*32\n",
    "  cblock3 = conv_block(cblock2[0], n_filter*4) # 16*16\n",
    "  cblock4 = conv_block(cblock3[0], n_filter*8, dropout_prob=0.3) #8*8\n",
    "  cblock5 = conv_block(cblock4[0], n_filter*16,dropout_prob=0.3, max_pooling=False)#8*8\n",
    "  ublock6 = upsampling_block(cblock5[0], cblock4[1] ,n_filter*8 )\n",
    "  ublock7 = upsampling_block(ublock6, cblock3[1] ,n_filter*4)\n",
    "  ublock8 = upsampling_block(ublock7, cblock2[1] ,n_filter*2 )\n",
    "  ublock9 = upsampling_block(ublock8, cblock1[1] ,n_filter )\n",
    "\n",
    "  conv9 = Conv2D(n_filter, 3, activation = 'relu', padding ='same', kernel_initializer = 'he_normal')(ublock9)\n",
    "\n",
    "  conv10  = Conv2D(n_classes, 1, padding ='same', activation = 'sigmoid')(conv9)\n",
    "\n",
    "  model = tf.keras.Model(inputs = inputs, outputs = conv10)\n",
    "  return model"
   ]
  },
  {
   "cell_type": "code",
   "execution_count": 59,
   "id": "99231c1f",
   "metadata": {},
   "outputs": [],
   "source": [
    "model = unet_model()"
   ]
  },
  {
   "cell_type": "code",
   "execution_count": 60,
   "id": "283ea3cb",
   "metadata": {},
   "outputs": [],
   "source": [
    "model.compile(optimizer=Adam(learning_rate=1e-3), loss=focal_tversky, metrics=[iou,dsc,tp,tn])"
   ]
  },
  {
   "cell_type": "code",
   "execution_count": null,
   "id": "612b09fc",
   "metadata": {},
   "outputs": [],
   "source": [
    "model.fit(train_data, validation_data=valid_data,epochs = 10)"
   ]
  }
 ],
 "metadata": {
  "kernelspec": {
   "display_name": "Python 3 (ipykernel)",
   "language": "python",
   "name": "python3"
  },
  "language_info": {
   "codemirror_mode": {
    "name": "ipython",
    "version": 3
   },
   "file_extension": ".py",
   "mimetype": "text/x-python",
   "name": "python",
   "nbconvert_exporter": "python",
   "pygments_lexer": "ipython3",
   "version": "3.8.10"
  }
 },
 "nbformat": 4,
 "nbformat_minor": 5
}
